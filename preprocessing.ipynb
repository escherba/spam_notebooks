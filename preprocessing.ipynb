{
 "metadata": {
  "name": "",
  "signature": "sha256:5433d1aa8c8ca1d119292c1436eaf6d37d108c39d0d8c5b5a3056ff2d791aa3b"
 },
 "nbformat": 3,
 "nbformat_minor": 0,
 "worksheets": [
  {
   "cells": [
    {
     "cell_type": "heading",
     "level": 1,
     "metadata": {},
     "source": [
      "Preprocessing Content"
     ]
    },
    {
     "cell_type": "heading",
     "level": 2,
     "metadata": {},
     "source": [
      "1. Unescaping HTML"
     ]
    },
    {
     "cell_type": "markdown",
     "metadata": {},
     "source": [
      "The first step is to unescape HTML entities. We often get strings that, before parsing, need to be unescaped. The example below contains a substring that illustrates this: `&lt;em&gt;Obama&lt;/em&gt;`"
     ]
    },
    {
     "cell_type": "code",
     "collapsed": false,
     "input": [
      "content = u'\"Here\\u2019s the most obstructed president in the modern history of the country.' +\\\n",
      "          u'(Yes, there\\u2019s no serious disputing this.)\"\\nNo. \\xa0There\\'s plenty disputing ' +\\\n",
      "          u'that.\\n\\xa0\"His approval numbers are down, dragged down by the opposition party, ' +\\\n",
      "          u'which does everything it can to make sure there will be no economic recovery while ' +\\\n",
      "          u'he\\u2019s president.\"\\nThat\\'s so brain-dead stupid it\\'s almost worth ignoring. ' +\\\n",
      "          u'\\xa0But someone\\'s got to do it.\\n\\nNo, Mikey, &lt;em&gt;Obama&lt;/em&gt; has done ' +\\\n",
      "          u'everything he can to make sure there will be no economic recovery while he\\'s ' +\\\n",
      "          u'president.\\xa0\\nTomasky\\'s \"advice\" to the President is a transparently cynical ' +\\\n",
      "          u'political strategy: just repeat what (he imagine) will enrage voters until they\\'re ' +\\\n",
      "          u'enraged.\\xa0\\nThe difficulty here is that Obama and the Dims have been doing little ' +\\\n",
      "          u'else but damn the Republicans\\u2014certainly not their jobs\\u2014since around the ' +\\\n",
      "          u' 2010 \"Summer of Recovery\" (remember that howler?). \\xa0The public credits this ' +\\\n",
      "          u'bulls**t less and less every year, but Mikey thinks more and deeper bulls**t is the ' +\\\n",
      "          u'answer.\\n'\n",
      "from HTMLParser import HTMLParser\n",
      "html_parser = HTMLParser()\n",
      "unescaped = html_parser.unescape(content)\n",
      "print unescaped"
     ],
     "language": "python",
     "metadata": {},
     "outputs": [
      {
       "output_type": "stream",
       "stream": "stdout",
       "text": [
        "\"Here\u2019s the most obstructed president in the modern history of the country.(Yes, there\u2019s no serious disputing this.)\"\n",
        "No. \u00a0There's plenty disputing that.\n",
        "\u00a0\"His approval numbers are down, dragged down by the opposition party, which does everything it can to make sure there will be no economic recovery while he\u2019s president.\"\n",
        "That's so brain-dead stupid it's almost worth ignoring. \u00a0But someone's got to do it.\n",
        "\n",
        "No, Mikey, <em>Obama</em> has done everything he can to make sure there will be no economic recovery while he's president.\u00a0\n",
        "Tomasky's \"advice\" to the President is a transparently cynical political strategy: just repeat what (he imagine) will enrage voters until they're enraged.\u00a0\n",
        "The difficulty here is that Obama and the Dims have been doing little else but damn the Republicans\u2014certainly not their jobs\u2014since around the  2010 \"Summer of Recovery\" (remember that howler?). \u00a0The public credits this bulls**t less and less every year, but Mikey thinks more and deeper bulls**t is the answer.\n",
        "\n"
       ]
      }
     ],
     "prompt_number": 10
    },
    {
     "cell_type": "heading",
     "level": 2,
     "metadata": {},
     "source": [
      "2. Rendering Text"
     ]
    },
    {
     "cell_type": "heading",
     "level": 3,
     "metadata": {},
     "source": [
      "2.1. Original NLTK v2.x solution"
     ]
    },
    {
     "cell_type": "markdown",
     "metadata": {},
     "source": [
      "After escaping, we still need to remove the HTML tags. In the above example, we need to replace \"`<em>Obama</em>`\" with simply \"`Obama`\".\n",
      "\n",
      "NLTK v2.x provides a built-in function `clean_html()`. This function, however, has been deprecated in v3.x of NLTK, which now recommends to use `get_text()` method from `BeautifulText4` package. For future reference, the v2.x implementation of `clean_html()` looks like this:"
     ]
    },
    {
     "cell_type": "code",
     "collapsed": false,
     "input": [
      "def clean_html(html):\n",
      "    \"\"\"Remove HTML markup from the given string.\"\"\"\n",
      "    \n",
      "    # First we remove inline JavaScript/CSS:\n",
      "    cleaned = re.sub(r\"(?is)<(script|style).*?>.*?(</\\1>)\", \"\", html.strip())\n",
      "    # Then we remove html comments. This has to be done before removing regular\n",
      "    # tags since comments can contain '>' characters.\n",
      "    cleaned = re.sub(r\"(?s)<!--(.*?)-->[\\n]?\", \"\", cleaned)\n",
      "    # Next we can remove the remaining tags:\n",
      "    cleaned = re.sub(r\"(?s)<.*?>\", \" \", cleaned)\n",
      "    # Finally, we deal with whitespace\n",
      "    cleaned = re.sub(r\"&nbsp;\", \" \", cleaned)\n",
      "    cleaned = re.sub(r\"  \", \" \", cleaned)\n",
      "    cleaned = re.sub(r\"  \", \" \", cleaned)\n",
      "    return cleaned.strip()"
     ],
     "language": "python",
     "metadata": {},
     "outputs": [],
     "prompt_number": 11
    },
    {
     "cell_type": "markdown",
     "metadata": {},
     "source": [
      "We will explore three alternative implementations of clean_html, one using the recommended method `get_text()` from `BeautifulSoup4`, another using `HTMLParser` module, and a third one using `lxml`."
     ]
    },
    {
     "cell_type": "heading",
     "level": 3,
     "metadata": {},
     "source": [
      "2.2. `lxml`"
     ]
    },
    {
     "cell_type": "code",
     "collapsed": false,
     "input": [
      "from lxml.html import document_fromstring\n",
      "\n",
      "def clean_html(html):\n",
      "    \"\"\"Remove HTML markup from the given string.\"\"\"\n",
      "    return ''.join(document_fromstring(html).itertext()).strip()\n",
      "\n",
      "print clean_html(unescaped)\n",
      "print \n",
      "%timeit clean_html(unescaped)"
     ],
     "language": "python",
     "metadata": {},
     "outputs": [
      {
       "output_type": "stream",
       "stream": "stdout",
       "text": [
        "\"Here\u2019s the most obstructed president in the modern history of the country.(Yes, there\u2019s no serious disputing this.)\"\n",
        "No. \u00a0There's plenty disputing that.\n",
        "\u00a0\"His approval numbers are down, dragged down by the opposition party, which does everything it can to make sure there will be no economic recovery while he\u2019s president.\"\n",
        "That's so brain-dead stupid it's almost worth ignoring. \u00a0But someone's got to do it.\n",
        "\n",
        "No, Mikey, Obama has done everything he can to make sure there will be no economic recovery while he's president.\u00a0\n",
        "Tomasky's \"advice\" to the President is a transparently cynical political strategy: just repeat what (he imagine) will enrage voters until they're enraged.\u00a0\n",
        "The difficulty here is that Obama and the Dims have been doing little else but damn the Republicans\u2014certainly not their jobs\u2014since around the  2010 \"Summer of Recovery\" (remember that howler?). \u00a0The public credits this bulls**t less and less every year, but Mikey thinks more and deeper bulls**t is the answer.\n",
        "\n",
        "10000 loops, best of 3: 76.7 \u00b5s per loop"
       ]
      },
      {
       "output_type": "stream",
       "stream": "stdout",
       "text": [
        "\n"
       ]
      }
     ],
     "prompt_number": 12
    },
    {
     "cell_type": "heading",
     "level": 3,
     "metadata": {},
     "source": [
      "2.3. HTMLParser"
     ]
    },
    {
     "cell_type": "code",
     "collapsed": false,
     "input": [
      "class MLStripper(HTMLParser):\n",
      "    def __init__(self):\n",
      "        self.reset()\n",
      "        self.fed = []\n",
      "        \n",
      "    def handle_data(self, d):\n",
      "        self.fed.append(d)\n",
      "        \n",
      "    def get_data(self):\n",
      "        return ''.join(self.fed)\n",
      "\n",
      "def clean_html(html):\n",
      "    \"\"\"Remove HTML markup from the given string.\"\"\"\n",
      "    s = MLStripper()\n",
      "    s.feed(html)\n",
      "    return s.get_data().strip()\n",
      "\n",
      "print clean_html(unescaped)\n",
      "print \n",
      "%timeit clean_html(unescaped)"
     ],
     "language": "python",
     "metadata": {},
     "outputs": [
      {
       "output_type": "stream",
       "stream": "stdout",
       "text": [
        "\"Here\u2019s the most obstructed president in the modern history of the country.(Yes, there\u2019s no serious disputing this.)\"\n",
        "No. \u00a0There's plenty disputing that.\n",
        "\u00a0\"His approval numbers are down, dragged down by the opposition party, which does everything it can to make sure there will be no economic recovery while he\u2019s president.\"\n",
        "That's so brain-dead stupid it's almost worth ignoring. \u00a0But someone's got to do it.\n",
        "\n",
        "No, Mikey, Obama has done everything he can to make sure there will be no economic recovery while he's president.\u00a0\n",
        "Tomasky's \"advice\" to the President is a transparently cynical political strategy: just repeat what (he imagine) will enrage voters until they're enraged.\u00a0\n",
        "The difficulty here is that Obama and the Dims have been doing little else but damn the Republicans\u2014certainly not their jobs\u2014since around the  2010 \"Summer of Recovery\" (remember that howler?). \u00a0The public credits this bulls**t less and less every year, but Mikey thinks more and deeper bulls**t is the answer.\n",
        "\n",
        "10000 loops, best of 3: 43.7 \u00b5s per loop"
       ]
      },
      {
       "output_type": "stream",
       "stream": "stdout",
       "text": [
        "\n"
       ]
      }
     ],
     "prompt_number": 13
    },
    {
     "cell_type": "heading",
     "level": 3,
     "metadata": {},
     "source": [
      "2.4. BeautifulSoup4"
     ]
    },
    {
     "cell_type": "code",
     "collapsed": false,
     "input": [
      "from bs4 import BeautifulSoup\n",
      "\n",
      "def clean_html(html):\n",
      "    \"\"\"Remove HTML markup from the given string.\"\"\"\n",
      "    s = BeautifulSoup(html)\n",
      "    return s.get_text().strip()\n",
      "\n",
      "print clean_html(unescaped)\n",
      "print \n",
      "%timeit clean_html(unescaped)"
     ],
     "language": "python",
     "metadata": {},
     "outputs": [
      {
       "output_type": "stream",
       "stream": "stdout",
       "text": [
        "\"Here\u2019s the most obstructed president in the modern history of the country.(Yes, there\u2019s no serious disputing this.)\"\n",
        "No. \u00a0There's plenty disputing that.\n",
        "\u00a0\"His approval numbers are down, dragged down by the opposition party, which does everything it can to make sure there will be no economic recovery while he\u2019s president.\"\n",
        "That's so brain-dead stupid it's almost worth ignoring. \u00a0But someone's got to do it.\n",
        "\n",
        "No, Mikey, Obama has done everything he can to make sure there will be no economic recovery while he's president.\u00a0\n",
        "Tomasky's \"advice\" to the President is a transparently cynical political strategy: just repeat what (he imagine) will enrage voters until they're enraged.\u00a0\n",
        "The difficulty here is that Obama and the Dims have been doing little else but damn the Republicans\u2014certainly not their jobs\u2014since around the  2010 \"Summer of Recovery\" (remember that howler?). \u00a0The public credits this bulls**t less and less every year, but Mikey thinks more and deeper bulls**t is the answer.\n",
        "\n",
        "1000 loops, best of 3: 263 \u00b5s per loop"
       ]
      },
      {
       "output_type": "stream",
       "stream": "stdout",
       "text": [
        "\n"
       ]
      }
     ],
     "prompt_number": 14
    },
    {
     "cell_type": "heading",
     "level": 3,
     "metadata": {},
     "source": [
      "2.5. Conclusion"
     ]
    },
    {
     "cell_type": "markdown",
     "metadata": {},
     "source": [
      "`HMTLParser` solution seems to have a beter perfomance profile compared to others, and it does not require adding `lxml` or `beautifulsoup4` as dependencies, thus we will use it as our primary rendering method."
     ]
    },
    {
     "cell_type": "heading",
     "level": 1,
     "metadata": {},
     "source": [
      "3. Normalizing"
     ]
    },
    {
     "cell_type": "heading",
     "level": 3,
     "metadata": {},
     "source": [
      "3.1. Lowercasing"
     ]
    },
    {
     "cell_type": "markdown",
     "metadata": {},
     "source": [
      "The most common form of normalization in text processing is converting text to lower case. This enables us to treat semantically similar text without introducing unnecessary sparsity."
     ]
    },
    {
     "cell_type": "heading",
     "level": 3,
     "metadata": {},
     "source": [
      "3.2. Spam-specific normalization"
     ]
    },
    {
     "cell_type": "markdown",
     "metadata": {},
     "source": [
      "Some spammy content will look like the following:"
     ]
    },
    {
     "cell_type": "code",
     "collapsed": false,
     "input": [
      "content = u\"m\\xad\\xad\\xad\\xad\\xad\\xad\\xad\\xad\\xad\\xad\\xad\\xad\\xad\\xad\\xad\\xad\\xad\\xady\\xad\\xad\\xad\\xad\\xad\\xad\\xad\\xad\\xad\\xad\\xad\\xad\\xad\\xad\\xad\\xad\\xad\\xad\\nn\\xad\\xad\\xad\\xad\\xad\\xad\\xad\\xad\\xad\\xad\\xad\\xad\\xad\\xad\\xad\\xad\\xad\\xade\\xad\\xad\\xad\\xad\\xad\\xad\\xad\\xad\\xad\\xad\\xad\\xad\\xad\\xad\\xad\\xad\\xad\\xadi\\xad\\xad\\xad\\xad\\xad\\xad\\xad\\xad\\xad\\xad\\xad\\xad\\xad\\xad\\xad\\xad\\xad\\xadg\\xad\\xad\\xad\\xad\\xad\\xad\\xad\\xad\\xad\\xad\\xad\\xad\\xad\\xad\\xad\\xad\\xad\\xadh\\xad\\xad\\xad\\xad\\xad\\xad\\xad\\xad\\xad\\xad\\xad\\xad\\xad\\xad\\xad\\xad\\xad\\xadb\\xad\\xad\\xad\\xad\\xad\\xad\\xad\\xad\\xad\\xad\\xad\\xad\\xad\\xad\\xad\\xad\\xad\\xado\\xad\\xad\\xad\\xad\\xad\\xad\\xad\\xad\\xad\\xad\\xad\\xad\\xad\\xad\\xad\\xad\\xad\\xadr'\\xad\\xad\\xad\\xad\\xad\\xad\\xad\\xad\\xad\\xad\\xad\\xad\\xad\\xad\\xad\\xad\\xad\\xads\\n\\xad\\xad\\xad\\xad\\xad\\xad\\xad\\xad\\xad\\xad\\xad\\xad\\xad\\xad\\xad\\xad\\xad\\xads\\xad\\xad\\xad\\xad\\xad\\xad\\xad\\xad\\xad\\xad\\xad\\xad\\xad\\xad\\xad\\xad\\xad\\xadi\\xad\\xad\\xad\\xad\\xad\\xad\\xad\\xad\\xad\\xad\\xad\\xad\\xad\\xad\\xad\\xad\\xad\\xads\\xad\\xad\\xad\\xad\\xad\\xad\\xad\\xad\\xad\\xad\\xad\\xad\\xad\\xad\\xad\\xad\\xad\\xadt\\xad\\xad\\xad\\xad\\xad\\xad\\xad\\xad\\xad\\xad\\xad\\xad\\xad\\xad\\xad\\xad\\xad\\xade\\xad\\xad\\xad\\xad\\xad\\xad\\xad\\xad\\xad\\xad\\xad\\xad\\xad\\xad\\xad\\xad\\xad\\xadr\\xad\\xad\\xad\\xad\\xad\\xad\\xad\\xad\\xad\\xad\\xad\\xad\\xad\\xad\\xad\\xad\\xad\\xad-\\xad\\xad\\xad\\xad\\xad\\xad\\xad\\xad\\xad\\xad\\xad\\xad\\xad\\xad\\xad\\xad\\xad\\xadin-\\xad\\xad\\xad\\xad\\xad\\xad\\xad\\xad\\xad\\xad\\xad\\xad\\xad\\xad\\xad\\xad\\xad\\xadlaw\\n\\xad\\xad\\xad\\xad\\xad\\xad\\xad\\xad\\xad\\xad\\xad\\xad\\xad\\xad\\xad\\xad\\xad\\xadmakes \\xad\\xad\\xad\\xad\\xad\\xad\\xad\\xad\\xad\\xad\\xad\\xad\\xad\\xad\\xad\\xad\\xad\\xad$76 \\xad\\xad\\xad\\xad\\xad\\xad\\xad\\xad\\xad\\xad\\xad\\xad\\xad\\xad\\xad\\xad\\xad\\xadhourly\\n\\xad\\xad\\xad\\xad\\xad\\xad\\xad\\xad\\xad\\xad\\xad\\xad\\xad\\xad\\xad\\xad\\xad\\xadon \\xad\\xad\\xad\\xad\\xad\\xad\\xad\\xad\\xad\\xad\\xad\\xad\\xad\\xad\\xad\\xad\\xad\\xadthe \\xad\\xad\\xad\\xad\\xad\\xad\\xad\\xad\\xad\\xad\\xad\\xad\\xad\\xad\\xad\\xad\\xad\\xadcomputer. \\xad\\xad\\xad\\xad\\xad\\xad\\xad\\xad\\xad\\xad\\xad\\xad\\xad\\xad\\xad\\xad\\xad\\xadShe\\n\\xad\\xad\\xad\\xad\\xad\\xad\\xad\\xad\\xad\\xad\\xad\\xad\\xad\\xad\\xad\\xad\\xad\\xadhas \\xad\\xad\\xad\\xad\\xad\\xad\\xad\\xad\\xad\\xad\\xad\\xad\\xad\\xad\\xad\\xad\\xad\\xadbeen without \\xad\\xad\\xad\\xad\\xad\\xad\\xad\\xad\\xad\\xad\\xad\\xad\\xad\\xad\\xad\\xad\\xad\\xadwork\\n\\xad\\xad\\xad\\xad\\xad\\xad\\xad\\xad\\xad\\xad\\xad\\xad\\xad\\xad\\xad\\xad\\xad\\xadfor \\xad\\xad\\xad\\xad\\xad\\xad\\xad\\xad\\xad\\xad\\xad\\xad\\xad\\xad\\xad\\xad\\xad\\xadsix \\xad\\xad\\xad\\xad\\xad\\xad\\xad\\xad\\xad\\xad\\xad\\xad\\xad\\xad\\xad\\xad\\xad\\xadmonths\\n\\xad\\xad\\xad\\xad\\xad\\xad\\xad\\xad\\xad\\xad\\xad\\xad\\xad\\xad\\xad\\xad\\xad\\xadbut \\xad\\xad\\xad\\xad\\xad\\xad\\xad\\xad\\xad\\xad\\xad\\xad\\xad\\xad\\xad\\xad\\xad\\xadlast \\xad\\xad\\xad\\xad\\xad\\xad\\xad\\xad\\xad\\xad\\xad\\xad\\xad\\xad\\xad\\xad\\xad\\xadmonth\\n\\xad\\xad\\xad\\xad\\xad\\xad\\xad\\xad\\xad\\xad\\xad\\xad\\xad\\xad\\xad\\xad\\xad\\xadher \\xad\\xad\\xad\\xad\\xad\\xad\\xad\\xad\\xad\\xad\\xad\\xad\\xad\\xad\\xad\\xad\\xad\\xadincome \\xad\\xad\\xad\\xad\\xad\\xad\\xad\\xad\\xad\\xad\\xad\\xad\\xad\\xad\\xad\\xad\\xad\\xadwas\\n\\xad\\xad\\xad\\xad\\xad\\xad\\xad\\xad\\xad\\xad\\xad\\xad\\xad\\xad\\xad\\xad\\xad\\xad$14418 \\xad\\xad\\xad\\xad\\xad\\xad\\xad\\xad\\xad\\xad\\xad\\xad\\xad\\xad\\xad\\xad\\xad\\xadjust \\xad\\xad\\xad\\xad\\xad\\xad\\xad\\xad\\xad\\xad\\xad\\xad\\xad\\xad\\xad\\xad\\xad\\xadworking\\n\\xad\\xad\\xad\\xad\\xad\\xad\\xad\\xad\\xad\\xad\\xad\\xad\\xad\\xad\\xad\\xad\\xad\\xadon \\xad\\xad\\xad\\xad\\xad\\xad\\xad\\xad\\xad\\xad\\xad\\xad\\xad\\xad\\xad\\xad\\xad\\xadthe computer \\xad\\xad\\xad\\xad\\xad\\xad\\xad\\xad\\xad\\xad\\xad\\xad\\xad\\xad\\xad\\xad\\xad\\xadfor\\n\\xad\\xad\\xad\\xad\\xad\\xad\\xad\\xad\\xad\\xad\\xad\\xad\\xad\\xad\\xad\\xad\\xad\\xada \\xad\\xad\\xad\\xad\\xad\\xad\\xad\\xad\\xad\\xad\\xad\\xad\\xad\\xad\\xad\\xad\\xad\\xadfe\\xad\\xad\\xad\\xad\\xad\\xad\\xad\\xad\\xad\\xad\\xad\\xad\\xad\\xad\\xad\\xad\\xad\\xadw\\n\\xad\\xad\\xad\\xad\\xad\\xad\\xad\\xad\\xad\\xad\\xad\\xad\\xad\\xad\\xad\\xad\\xad\\xadho\\xad\\xad\\xad\\xad\\xad\\xad\\xad\\xad\\xad\\xad\\xad\\xad\\xad\\xad\\xad\\xad\\xad\\xadurs.\\n\\xad\\xad\\xad\\xad\\xad\\xad\\xad\\xad\\xad\\xad\\xad\\xad\\xad\\xad\\xad\\xad\\xad\\xadvi\\xad\\xad\\xad\\xad\\xad\\xad\\xad\\xad\\xad\\xad\\xad\\xad\\xad\\xad\\xad\\xad\\xad\\xadsit\\n\\xad\\xad\\xad\\xad\\xad\\xad\\xad\\xad\\xad\\xad\\xad\\xad\\xad\\xad\\xad\\xad\\xad\\xadt\\xad\\xad\\xad\\xad\\xad\\xad\\xad\\xad\\xad\\xad\\xad\\xad\\xad\\xad\\xad\\xad\\xad\\xadh\\xad\\xad\\xad\\xad\\xad\\xad\\xad\\xad\\xad\\xad\\xad\\xad\\xad\\xad\\xad\\xad\\xad\\xade\\n\\xad\\xad\\xad\\xad\\xad\\xad\\xad\\xad\\xad\\xad\\xad\\xad\\xad\\xad\\xad\\xad\\xad\\xadsi\\xad\\xad\\xad\\xad\\xad\\xad\\xad\\xad\\xad\\xad\\xad\\xad\\xad\\xad\\xad\\xad\\xad\\xadte\\xad\\xad\\xad\\xad\\xad\\xad\\xad\\xad\\xad\\xad\\xad\\xad\\xad\\xad\\xad\\xad\\xad\\xad\\n======&gt;&gt;&gt;&gt;\\nw\\xadw\\xadw\\xad.\\xadM\\xada\\xadc\\xad\\xad3\\xad0\\xad.\\xadc\\xado\\xadm\\n\"\n",
      "unescaped = html_parser.unescape(content)\n",
      "print unescaped"
     ],
     "language": "python",
     "metadata": {},
     "outputs": [
      {
       "output_type": "stream",
       "stream": "stdout",
       "text": [
        "m\u00ad\u00ad\u00ad\u00ad\u00ad\u00ad\u00ad\u00ad\u00ad\u00ad\u00ad\u00ad\u00ad\u00ad\u00ad\u00ad\u00ad\u00ady\u00ad\u00ad\u00ad\u00ad\u00ad\u00ad\u00ad\u00ad\u00ad\u00ad\u00ad\u00ad\u00ad\u00ad\u00ad\u00ad\u00ad\u00ad\n",
        "n\u00ad\u00ad\u00ad\u00ad\u00ad\u00ad\u00ad\u00ad\u00ad\u00ad\u00ad\u00ad\u00ad\u00ad\u00ad\u00ad\u00ad\u00ade\u00ad\u00ad\u00ad\u00ad\u00ad\u00ad\u00ad\u00ad\u00ad\u00ad\u00ad\u00ad\u00ad\u00ad\u00ad\u00ad\u00ad\u00adi\u00ad\u00ad\u00ad\u00ad\u00ad\u00ad\u00ad\u00ad\u00ad\u00ad\u00ad\u00ad\u00ad\u00ad\u00ad\u00ad\u00ad\u00adg\u00ad\u00ad\u00ad\u00ad\u00ad\u00ad\u00ad\u00ad\u00ad\u00ad\u00ad\u00ad\u00ad\u00ad\u00ad\u00ad\u00ad\u00adh\u00ad\u00ad\u00ad\u00ad\u00ad\u00ad\u00ad\u00ad\u00ad\u00ad\u00ad\u00ad\u00ad\u00ad\u00ad\u00ad\u00ad\u00adb\u00ad\u00ad\u00ad\u00ad\u00ad\u00ad\u00ad\u00ad\u00ad\u00ad\u00ad\u00ad\u00ad\u00ad\u00ad\u00ad\u00ad\u00ado\u00ad\u00ad\u00ad\u00ad\u00ad\u00ad\u00ad\u00ad\u00ad\u00ad\u00ad\u00ad\u00ad\u00ad\u00ad\u00ad\u00ad\u00adr'\u00ad\u00ad\u00ad\u00ad\u00ad\u00ad\u00ad\u00ad\u00ad\u00ad\u00ad\u00ad\u00ad\u00ad\u00ad\u00ad\u00ad\u00ads\n",
        "\u00ad\u00ad\u00ad\u00ad\u00ad\u00ad\u00ad\u00ad\u00ad\u00ad\u00ad\u00ad\u00ad\u00ad\u00ad\u00ad\u00ad\u00ads\u00ad\u00ad\u00ad\u00ad\u00ad\u00ad\u00ad\u00ad\u00ad\u00ad\u00ad\u00ad\u00ad\u00ad\u00ad\u00ad\u00ad\u00adi\u00ad\u00ad\u00ad\u00ad\u00ad\u00ad\u00ad\u00ad\u00ad\u00ad\u00ad\u00ad\u00ad\u00ad\u00ad\u00ad\u00ad\u00ads\u00ad\u00ad\u00ad\u00ad\u00ad\u00ad\u00ad\u00ad\u00ad\u00ad\u00ad\u00ad\u00ad\u00ad\u00ad\u00ad\u00ad\u00adt\u00ad\u00ad\u00ad\u00ad\u00ad\u00ad\u00ad\u00ad\u00ad\u00ad\u00ad\u00ad\u00ad\u00ad\u00ad\u00ad\u00ad\u00ade\u00ad\u00ad\u00ad\u00ad\u00ad\u00ad\u00ad\u00ad\u00ad\u00ad\u00ad\u00ad\u00ad\u00ad\u00ad\u00ad\u00ad\u00adr\u00ad\u00ad\u00ad\u00ad\u00ad\u00ad\u00ad\u00ad\u00ad\u00ad\u00ad\u00ad\u00ad\u00ad\u00ad\u00ad\u00ad\u00ad-\u00ad\u00ad\u00ad\u00ad\u00ad\u00ad\u00ad\u00ad\u00ad\u00ad\u00ad\u00ad\u00ad\u00ad\u00ad\u00ad\u00ad\u00adin-\u00ad\u00ad\u00ad\u00ad\u00ad\u00ad\u00ad\u00ad\u00ad\u00ad\u00ad\u00ad\u00ad\u00ad\u00ad\u00ad\u00ad\u00adlaw\n",
        "\u00ad\u00ad\u00ad\u00ad\u00ad\u00ad\u00ad\u00ad\u00ad\u00ad\u00ad\u00ad\u00ad\u00ad\u00ad\u00ad\u00ad\u00admakes \u00ad\u00ad\u00ad\u00ad\u00ad\u00ad\u00ad\u00ad\u00ad\u00ad\u00ad\u00ad\u00ad\u00ad\u00ad\u00ad\u00ad\u00ad$76 \u00ad\u00ad\u00ad\u00ad\u00ad\u00ad\u00ad\u00ad\u00ad\u00ad\u00ad\u00ad\u00ad\u00ad\u00ad\u00ad\u00ad\u00adhourly\n",
        "\u00ad\u00ad\u00ad\u00ad\u00ad\u00ad\u00ad\u00ad\u00ad\u00ad\u00ad\u00ad\u00ad\u00ad\u00ad\u00ad\u00ad\u00adon \u00ad\u00ad\u00ad\u00ad\u00ad\u00ad\u00ad\u00ad\u00ad\u00ad\u00ad\u00ad\u00ad\u00ad\u00ad\u00ad\u00ad\u00adthe \u00ad\u00ad\u00ad\u00ad\u00ad\u00ad\u00ad\u00ad\u00ad\u00ad\u00ad\u00ad\u00ad\u00ad\u00ad\u00ad\u00ad\u00adcomputer. \u00ad\u00ad\u00ad\u00ad\u00ad\u00ad\u00ad\u00ad\u00ad\u00ad\u00ad\u00ad\u00ad\u00ad\u00ad\u00ad\u00ad\u00adShe\n",
        "\u00ad\u00ad\u00ad\u00ad\u00ad\u00ad\u00ad\u00ad\u00ad\u00ad\u00ad\u00ad\u00ad\u00ad\u00ad\u00ad\u00ad\u00adhas \u00ad\u00ad\u00ad\u00ad\u00ad\u00ad\u00ad\u00ad\u00ad\u00ad\u00ad\u00ad\u00ad\u00ad\u00ad\u00ad\u00ad\u00adbeen without \u00ad\u00ad\u00ad\u00ad\u00ad\u00ad\u00ad\u00ad\u00ad\u00ad\u00ad\u00ad\u00ad\u00ad\u00ad\u00ad\u00ad\u00adwork\n",
        "\u00ad\u00ad\u00ad\u00ad\u00ad\u00ad\u00ad\u00ad\u00ad\u00ad\u00ad\u00ad\u00ad\u00ad\u00ad\u00ad\u00ad\u00adfor \u00ad\u00ad\u00ad\u00ad\u00ad\u00ad\u00ad\u00ad\u00ad\u00ad\u00ad\u00ad\u00ad\u00ad\u00ad\u00ad\u00ad\u00adsix \u00ad\u00ad\u00ad\u00ad\u00ad\u00ad\u00ad\u00ad\u00ad\u00ad\u00ad\u00ad\u00ad\u00ad\u00ad\u00ad\u00ad\u00admonths\n",
        "\u00ad\u00ad\u00ad\u00ad\u00ad\u00ad\u00ad\u00ad\u00ad\u00ad\u00ad\u00ad\u00ad\u00ad\u00ad\u00ad\u00ad\u00adbut \u00ad\u00ad\u00ad\u00ad\u00ad\u00ad\u00ad\u00ad\u00ad\u00ad\u00ad\u00ad\u00ad\u00ad\u00ad\u00ad\u00ad\u00adlast \u00ad\u00ad\u00ad\u00ad\u00ad\u00ad\u00ad\u00ad\u00ad\u00ad\u00ad\u00ad\u00ad\u00ad\u00ad\u00ad\u00ad\u00admonth\n",
        "\u00ad\u00ad\u00ad\u00ad\u00ad\u00ad\u00ad\u00ad\u00ad\u00ad\u00ad\u00ad\u00ad\u00ad\u00ad\u00ad\u00ad\u00adher \u00ad\u00ad\u00ad\u00ad\u00ad\u00ad\u00ad\u00ad\u00ad\u00ad\u00ad\u00ad\u00ad\u00ad\u00ad\u00ad\u00ad\u00adincome \u00ad\u00ad\u00ad\u00ad\u00ad\u00ad\u00ad\u00ad\u00ad\u00ad\u00ad\u00ad\u00ad\u00ad\u00ad\u00ad\u00ad\u00adwas\n",
        "\u00ad\u00ad\u00ad\u00ad\u00ad\u00ad\u00ad\u00ad\u00ad\u00ad\u00ad\u00ad\u00ad\u00ad\u00ad\u00ad\u00ad\u00ad$14418 \u00ad\u00ad\u00ad\u00ad\u00ad\u00ad\u00ad\u00ad\u00ad\u00ad\u00ad\u00ad\u00ad\u00ad\u00ad\u00ad\u00ad\u00adjust \u00ad\u00ad\u00ad\u00ad\u00ad\u00ad\u00ad\u00ad\u00ad\u00ad\u00ad\u00ad\u00ad\u00ad\u00ad\u00ad\u00ad\u00adworking\n",
        "\u00ad\u00ad\u00ad\u00ad\u00ad\u00ad\u00ad\u00ad\u00ad\u00ad\u00ad\u00ad\u00ad\u00ad\u00ad\u00ad\u00ad\u00adon \u00ad\u00ad\u00ad\u00ad\u00ad\u00ad\u00ad\u00ad\u00ad\u00ad\u00ad\u00ad\u00ad\u00ad\u00ad\u00ad\u00ad\u00adthe computer \u00ad\u00ad\u00ad\u00ad\u00ad\u00ad\u00ad\u00ad\u00ad\u00ad\u00ad\u00ad\u00ad\u00ad\u00ad\u00ad\u00ad\u00adfor\n",
        "\u00ad\u00ad\u00ad\u00ad\u00ad\u00ad\u00ad\u00ad\u00ad\u00ad\u00ad\u00ad\u00ad\u00ad\u00ad\u00ad\u00ad\u00ada \u00ad\u00ad\u00ad\u00ad\u00ad\u00ad\u00ad\u00ad\u00ad\u00ad\u00ad\u00ad\u00ad\u00ad\u00ad\u00ad\u00ad\u00adfe\u00ad\u00ad\u00ad\u00ad\u00ad\u00ad\u00ad\u00ad\u00ad\u00ad\u00ad\u00ad\u00ad\u00ad\u00ad\u00ad\u00ad\u00adw\n",
        "\u00ad\u00ad\u00ad\u00ad\u00ad\u00ad\u00ad\u00ad\u00ad\u00ad\u00ad\u00ad\u00ad\u00ad\u00ad\u00ad\u00ad\u00adho\u00ad\u00ad\u00ad\u00ad\u00ad\u00ad\u00ad\u00ad\u00ad\u00ad\u00ad\u00ad\u00ad\u00ad\u00ad\u00ad\u00ad\u00adurs.\n",
        "\u00ad\u00ad\u00ad\u00ad\u00ad\u00ad\u00ad\u00ad\u00ad\u00ad\u00ad\u00ad\u00ad\u00ad\u00ad\u00ad\u00ad\u00advi\u00ad\u00ad\u00ad\u00ad\u00ad\u00ad\u00ad\u00ad\u00ad\u00ad\u00ad\u00ad\u00ad\u00ad\u00ad\u00ad\u00ad\u00adsit\n",
        "\u00ad\u00ad\u00ad\u00ad\u00ad\u00ad\u00ad\u00ad\u00ad\u00ad\u00ad\u00ad\u00ad\u00ad\u00ad\u00ad\u00ad\u00adt\u00ad\u00ad\u00ad\u00ad\u00ad\u00ad\u00ad\u00ad\u00ad\u00ad\u00ad\u00ad\u00ad\u00ad\u00ad\u00ad\u00ad\u00adh\u00ad\u00ad\u00ad\u00ad\u00ad\u00ad\u00ad\u00ad\u00ad\u00ad\u00ad\u00ad\u00ad\u00ad\u00ad\u00ad\u00ad\u00ade\n",
        "\u00ad\u00ad\u00ad\u00ad\u00ad\u00ad\u00ad\u00ad\u00ad\u00ad\u00ad\u00ad\u00ad\u00ad\u00ad\u00ad\u00ad\u00adsi\u00ad\u00ad\u00ad\u00ad\u00ad\u00ad\u00ad\u00ad\u00ad\u00ad\u00ad\u00ad\u00ad\u00ad\u00ad\u00ad\u00ad\u00adte\u00ad\u00ad\u00ad\u00ad\u00ad\u00ad\u00ad\u00ad\u00ad\u00ad\u00ad\u00ad\u00ad\u00ad\u00ad\u00ad\u00ad\u00ad\n",
        "======>>>>\n",
        "w\u00adw\u00adw\u00ad.\u00adM\u00ada\u00adc\u00ad\u00ad3\u00ad0\u00ad.\u00adc\u00ado\u00adm\n",
        "\n"
       ]
      }
     ],
     "prompt_number": 15
    },
    {
     "cell_type": "markdown",
     "metadata": {},
     "source": [
      "The spammer was trying to fool simple spam detectors by inserting a soft-hyphen character that does not render in the comment browser (the purpose of soft hyphen is to indicate places where the word can be broken). If we replace the soft hypen with a dot, we can see just what the spammer was doing when obfuscating her message:"
     ]
    },
    {
     "cell_type": "code",
     "collapsed": false,
     "input": [
      "import re\n",
      "print re.sub(ur\"\\xad\", u\"\\u00B7\", unescaped)"
     ],
     "language": "python",
     "metadata": {},
     "outputs": [
      {
       "output_type": "stream",
       "stream": "stdout",
       "text": [
        "m\u00b7\u00b7\u00b7\u00b7\u00b7\u00b7\u00b7\u00b7\u00b7\u00b7\u00b7\u00b7\u00b7\u00b7\u00b7\u00b7\u00b7\u00b7y\u00b7\u00b7\u00b7\u00b7\u00b7\u00b7\u00b7\u00b7\u00b7\u00b7\u00b7\u00b7\u00b7\u00b7\u00b7\u00b7\u00b7\u00b7\n",
        "n\u00b7\u00b7\u00b7\u00b7\u00b7\u00b7\u00b7\u00b7\u00b7\u00b7\u00b7\u00b7\u00b7\u00b7\u00b7\u00b7\u00b7\u00b7e\u00b7\u00b7\u00b7\u00b7\u00b7\u00b7\u00b7\u00b7\u00b7\u00b7\u00b7\u00b7\u00b7\u00b7\u00b7\u00b7\u00b7\u00b7i\u00b7\u00b7\u00b7\u00b7\u00b7\u00b7\u00b7\u00b7\u00b7\u00b7\u00b7\u00b7\u00b7\u00b7\u00b7\u00b7\u00b7\u00b7g\u00b7\u00b7\u00b7\u00b7\u00b7\u00b7\u00b7\u00b7\u00b7\u00b7\u00b7\u00b7\u00b7\u00b7\u00b7\u00b7\u00b7\u00b7h\u00b7\u00b7\u00b7\u00b7\u00b7\u00b7\u00b7\u00b7\u00b7\u00b7\u00b7\u00b7\u00b7\u00b7\u00b7\u00b7\u00b7\u00b7b\u00b7\u00b7\u00b7\u00b7\u00b7\u00b7\u00b7\u00b7\u00b7\u00b7\u00b7\u00b7\u00b7\u00b7\u00b7\u00b7\u00b7\u00b7o\u00b7\u00b7\u00b7\u00b7\u00b7\u00b7\u00b7\u00b7\u00b7\u00b7\u00b7\u00b7\u00b7\u00b7\u00b7\u00b7\u00b7\u00b7r'\u00b7\u00b7\u00b7\u00b7\u00b7\u00b7\u00b7\u00b7\u00b7\u00b7\u00b7\u00b7\u00b7\u00b7\u00b7\u00b7\u00b7\u00b7s\n",
        "\u00b7\u00b7\u00b7\u00b7\u00b7\u00b7\u00b7\u00b7\u00b7\u00b7\u00b7\u00b7\u00b7\u00b7\u00b7\u00b7\u00b7\u00b7s\u00b7\u00b7\u00b7\u00b7\u00b7\u00b7\u00b7\u00b7\u00b7\u00b7\u00b7\u00b7\u00b7\u00b7\u00b7\u00b7\u00b7\u00b7i\u00b7\u00b7\u00b7\u00b7\u00b7\u00b7\u00b7\u00b7\u00b7\u00b7\u00b7\u00b7\u00b7\u00b7\u00b7\u00b7\u00b7\u00b7s\u00b7\u00b7\u00b7\u00b7\u00b7\u00b7\u00b7\u00b7\u00b7\u00b7\u00b7\u00b7\u00b7\u00b7\u00b7\u00b7\u00b7\u00b7t\u00b7\u00b7\u00b7\u00b7\u00b7\u00b7\u00b7\u00b7\u00b7\u00b7\u00b7\u00b7\u00b7\u00b7\u00b7\u00b7\u00b7\u00b7e\u00b7\u00b7\u00b7\u00b7\u00b7\u00b7\u00b7\u00b7\u00b7\u00b7\u00b7\u00b7\u00b7\u00b7\u00b7\u00b7\u00b7\u00b7r\u00b7\u00b7\u00b7\u00b7\u00b7\u00b7\u00b7\u00b7\u00b7\u00b7\u00b7\u00b7\u00b7\u00b7\u00b7\u00b7\u00b7\u00b7-\u00b7\u00b7\u00b7\u00b7\u00b7\u00b7\u00b7\u00b7\u00b7\u00b7\u00b7\u00b7\u00b7\u00b7\u00b7\u00b7\u00b7\u00b7in-\u00b7\u00b7\u00b7\u00b7\u00b7\u00b7\u00b7\u00b7\u00b7\u00b7\u00b7\u00b7\u00b7\u00b7\u00b7\u00b7\u00b7\u00b7law\n",
        "\u00b7\u00b7\u00b7\u00b7\u00b7\u00b7\u00b7\u00b7\u00b7\u00b7\u00b7\u00b7\u00b7\u00b7\u00b7\u00b7\u00b7\u00b7makes \u00b7\u00b7\u00b7\u00b7\u00b7\u00b7\u00b7\u00b7\u00b7\u00b7\u00b7\u00b7\u00b7\u00b7\u00b7\u00b7\u00b7\u00b7$76 \u00b7\u00b7\u00b7\u00b7\u00b7\u00b7\u00b7\u00b7\u00b7\u00b7\u00b7\u00b7\u00b7\u00b7\u00b7\u00b7\u00b7\u00b7hourly\n",
        "\u00b7\u00b7\u00b7\u00b7\u00b7\u00b7\u00b7\u00b7\u00b7\u00b7\u00b7\u00b7\u00b7\u00b7\u00b7\u00b7\u00b7\u00b7on \u00b7\u00b7\u00b7\u00b7\u00b7\u00b7\u00b7\u00b7\u00b7\u00b7\u00b7\u00b7\u00b7\u00b7\u00b7\u00b7\u00b7\u00b7the \u00b7\u00b7\u00b7\u00b7\u00b7\u00b7\u00b7\u00b7\u00b7\u00b7\u00b7\u00b7\u00b7\u00b7\u00b7\u00b7\u00b7\u00b7computer. \u00b7\u00b7\u00b7\u00b7\u00b7\u00b7\u00b7\u00b7\u00b7\u00b7\u00b7\u00b7\u00b7\u00b7\u00b7\u00b7\u00b7\u00b7She\n",
        "\u00b7\u00b7\u00b7\u00b7\u00b7\u00b7\u00b7\u00b7\u00b7\u00b7\u00b7\u00b7\u00b7\u00b7\u00b7\u00b7\u00b7\u00b7has \u00b7\u00b7\u00b7\u00b7\u00b7\u00b7\u00b7\u00b7\u00b7\u00b7\u00b7\u00b7\u00b7\u00b7\u00b7\u00b7\u00b7\u00b7been without \u00b7\u00b7\u00b7\u00b7\u00b7\u00b7\u00b7\u00b7\u00b7\u00b7\u00b7\u00b7\u00b7\u00b7\u00b7\u00b7\u00b7\u00b7work\n",
        "\u00b7\u00b7\u00b7\u00b7\u00b7\u00b7\u00b7\u00b7\u00b7\u00b7\u00b7\u00b7\u00b7\u00b7\u00b7\u00b7\u00b7\u00b7for \u00b7\u00b7\u00b7\u00b7\u00b7\u00b7\u00b7\u00b7\u00b7\u00b7\u00b7\u00b7\u00b7\u00b7\u00b7\u00b7\u00b7\u00b7six \u00b7\u00b7\u00b7\u00b7\u00b7\u00b7\u00b7\u00b7\u00b7\u00b7\u00b7\u00b7\u00b7\u00b7\u00b7\u00b7\u00b7\u00b7months\n",
        "\u00b7\u00b7\u00b7\u00b7\u00b7\u00b7\u00b7\u00b7\u00b7\u00b7\u00b7\u00b7\u00b7\u00b7\u00b7\u00b7\u00b7\u00b7but \u00b7\u00b7\u00b7\u00b7\u00b7\u00b7\u00b7\u00b7\u00b7\u00b7\u00b7\u00b7\u00b7\u00b7\u00b7\u00b7\u00b7\u00b7last \u00b7\u00b7\u00b7\u00b7\u00b7\u00b7\u00b7\u00b7\u00b7\u00b7\u00b7\u00b7\u00b7\u00b7\u00b7\u00b7\u00b7\u00b7month\n",
        "\u00b7\u00b7\u00b7\u00b7\u00b7\u00b7\u00b7\u00b7\u00b7\u00b7\u00b7\u00b7\u00b7\u00b7\u00b7\u00b7\u00b7\u00b7her \u00b7\u00b7\u00b7\u00b7\u00b7\u00b7\u00b7\u00b7\u00b7\u00b7\u00b7\u00b7\u00b7\u00b7\u00b7\u00b7\u00b7\u00b7income \u00b7\u00b7\u00b7\u00b7\u00b7\u00b7\u00b7\u00b7\u00b7\u00b7\u00b7\u00b7\u00b7\u00b7\u00b7\u00b7\u00b7\u00b7was\n",
        "\u00b7\u00b7\u00b7\u00b7\u00b7\u00b7\u00b7\u00b7\u00b7\u00b7\u00b7\u00b7\u00b7\u00b7\u00b7\u00b7\u00b7\u00b7$14418 \u00b7\u00b7\u00b7\u00b7\u00b7\u00b7\u00b7\u00b7\u00b7\u00b7\u00b7\u00b7\u00b7\u00b7\u00b7\u00b7\u00b7\u00b7just \u00b7\u00b7\u00b7\u00b7\u00b7\u00b7\u00b7\u00b7\u00b7\u00b7\u00b7\u00b7\u00b7\u00b7\u00b7\u00b7\u00b7\u00b7working\n",
        "\u00b7\u00b7\u00b7\u00b7\u00b7\u00b7\u00b7\u00b7\u00b7\u00b7\u00b7\u00b7\u00b7\u00b7\u00b7\u00b7\u00b7\u00b7on \u00b7\u00b7\u00b7\u00b7\u00b7\u00b7\u00b7\u00b7\u00b7\u00b7\u00b7\u00b7\u00b7\u00b7\u00b7\u00b7\u00b7\u00b7the computer \u00b7\u00b7\u00b7\u00b7\u00b7\u00b7\u00b7\u00b7\u00b7\u00b7\u00b7\u00b7\u00b7\u00b7\u00b7\u00b7\u00b7\u00b7for\n",
        "\u00b7\u00b7\u00b7\u00b7\u00b7\u00b7\u00b7\u00b7\u00b7\u00b7\u00b7\u00b7\u00b7\u00b7\u00b7\u00b7\u00b7\u00b7a \u00b7\u00b7\u00b7\u00b7\u00b7\u00b7\u00b7\u00b7\u00b7\u00b7\u00b7\u00b7\u00b7\u00b7\u00b7\u00b7\u00b7\u00b7fe\u00b7\u00b7\u00b7\u00b7\u00b7\u00b7\u00b7\u00b7\u00b7\u00b7\u00b7\u00b7\u00b7\u00b7\u00b7\u00b7\u00b7\u00b7w\n",
        "\u00b7\u00b7\u00b7\u00b7\u00b7\u00b7\u00b7\u00b7\u00b7\u00b7\u00b7\u00b7\u00b7\u00b7\u00b7\u00b7\u00b7\u00b7ho\u00b7\u00b7\u00b7\u00b7\u00b7\u00b7\u00b7\u00b7\u00b7\u00b7\u00b7\u00b7\u00b7\u00b7\u00b7\u00b7\u00b7\u00b7urs.\n",
        "\u00b7\u00b7\u00b7\u00b7\u00b7\u00b7\u00b7\u00b7\u00b7\u00b7\u00b7\u00b7\u00b7\u00b7\u00b7\u00b7\u00b7\u00b7vi\u00b7\u00b7\u00b7\u00b7\u00b7\u00b7\u00b7\u00b7\u00b7\u00b7\u00b7\u00b7\u00b7\u00b7\u00b7\u00b7\u00b7\u00b7sit\n",
        "\u00b7\u00b7\u00b7\u00b7\u00b7\u00b7\u00b7\u00b7\u00b7\u00b7\u00b7\u00b7\u00b7\u00b7\u00b7\u00b7\u00b7\u00b7t\u00b7\u00b7\u00b7\u00b7\u00b7\u00b7\u00b7\u00b7\u00b7\u00b7\u00b7\u00b7\u00b7\u00b7\u00b7\u00b7\u00b7\u00b7h\u00b7\u00b7\u00b7\u00b7\u00b7\u00b7\u00b7\u00b7\u00b7\u00b7\u00b7\u00b7\u00b7\u00b7\u00b7\u00b7\u00b7\u00b7e\n",
        "\u00b7\u00b7\u00b7\u00b7\u00b7\u00b7\u00b7\u00b7\u00b7\u00b7\u00b7\u00b7\u00b7\u00b7\u00b7\u00b7\u00b7\u00b7si\u00b7\u00b7\u00b7\u00b7\u00b7\u00b7\u00b7\u00b7\u00b7\u00b7\u00b7\u00b7\u00b7\u00b7\u00b7\u00b7\u00b7\u00b7te\u00b7\u00b7\u00b7\u00b7\u00b7\u00b7\u00b7\u00b7\u00b7\u00b7\u00b7\u00b7\u00b7\u00b7\u00b7\u00b7\u00b7\u00b7\n",
        "======>>>>\n",
        "w\u00b7w\u00b7w\u00b7.\u00b7M\u00b7a\u00b7c\u00b7\u00b73\u00b70\u00b7.\u00b7c\u00b7o\u00b7m\n",
        "\n"
       ]
      }
     ],
     "prompt_number": 17
    },
    {
     "cell_type": "markdown",
     "metadata": {},
     "source": [
      "A way to combat this is to create a table of substitutions where all non-displayable characters map to empty strings. Additionally, it might make sense to use the same table to convert all semantically-related punctuation characters (and possibly even hyphenated vowels) to a single representation.\n",
      "\n",
      "Finally, the presence of special characters like `u'\\xad'` is indicative of spam in general. So ideally we would also add a feature coding for presence of this character to our X matrix for learning.\n",
      "\n",
      "A way to perform character translation (including a few other invisible Unicode characters) is given below:"
     ]
    },
    {
     "cell_type": "code",
     "collapsed": false,
     "input": [
      "# A comprehensive map of non-printable zero-width characters\n",
      "zero_width_map = {k: None for k in (\n",
      "    range(ord(u'\\x00'), ord(u'\\x08') + 1) +\n",
      "    range(ord(u'\\x0b'), ord(u'\\x0c') + 1) +\n",
      "    range(ord(u'\\x0e'), ord(u'\\x1f') + 1) +\n",
      "    range(ord(u'\\x7f'), ord(u'\\x9f') + 1) +\n",
      "    [ord(u'\\uffff')] +\n",
      "    [ord(u'\\xad')] +\n",
      "    range(ord(u'\\u17b4'), ord(u'\\u17b5') + 1) +\n",
      "    range(ord(u'\\u200b'), ord(u'\\u200f') + 1) +\n",
      "    range(ord(u'\\u202a'), ord(u'\\u202d') + 1) +\n",
      "    range(ord(u'\\u2060'), ord(u'\\u2064') + 1) +\n",
      "    range(ord(u'\\u206a'), ord(u'\\u206f') + 1) +\n",
      "    [ord(u'\\ufeff')]\n",
      ")}\n",
      "normalized = unescaped.translate(zero_width_map)\n",
      "print repr(normalized)"
     ],
     "language": "python",
     "metadata": {},
     "outputs": [
      {
       "output_type": "stream",
       "stream": "stdout",
       "text": [
        "u\"my\\nneighbor's\\nsister-in-law\\nmakes $76 hourly\\non the computer. She\\nhas been without work\\nfor six months\\nbut last month\\nher income was\\n$14418 just working\\non the computer for\\na few\\nhours.\\nvisit\\nthe\\nsite\\n======>>>>\\nwww.Mac30.com\\n\"\n"
       ]
      }
     ],
     "prompt_number": 22
    },
    {
     "cell_type": "markdown",
     "metadata": {},
     "source": [
      "The output is now ready for tokenization.\n",
      "\n",
      "The original use of the soft hyphen (HTML `&shy;` character) has been [URL obfuscation](http://www.symantec.com/connect/blogs/soft-hyphen-new-url-obfuscation-technique). A related form of obfuscation that calls for normalization-like techniques are [IDN homograph attacks](http://www.symantec.com/connect/blogs/spoofing-around-urls). The existence of homograph spoofing means that commonly-used simple forms of text normalization such as removing accents from characters may be valuable for plain text but not for entities such as URLs or email addresses. A detailed description of the problem is [available here](http://www.irongeek.com/i.php?page=security/out-of-character-use-of-punycode-and-homoglyph-attacks-to-obfuscate-urls-for-phishing)."
     ]
    },
    {
     "cell_type": "code",
     "collapsed": false,
     "input": [],
     "language": "python",
     "metadata": {},
     "outputs": []
    }
   ],
   "metadata": {}
  }
 ]
}