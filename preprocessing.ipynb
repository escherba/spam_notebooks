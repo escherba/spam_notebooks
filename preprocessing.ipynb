{
 "metadata": {
  "name": "",
  "signature": "sha256:140d10607d56bc548b26358a8ac7afd05ef30d544e80fa434cf33083a2457d85"
 },
 "nbformat": 3,
 "nbformat_minor": 0,
 "worksheets": [
  {
   "cells": [
    {
     "cell_type": "heading",
     "level": 1,
     "metadata": {},
     "source": [
      "Preprocessing Content"
     ]
    },
    {
     "cell_type": "heading",
     "level": 2,
     "metadata": {},
     "source": [
      "1. Unescaping HTML"
     ]
    },
    {
     "cell_type": "markdown",
     "metadata": {},
     "source": [
      "The first step is to unescape HTML entities. We typically get strings like \"`&lt;em&gt;Obama&lt;/em&gt;`\" that, before parsing, need to be unescaped."
     ]
    },
    {
     "cell_type": "code",
     "collapsed": false,
     "input": [
      "content = u'\"Here\\u2019s the most obstructed president in the modern history of the country.' +\\\n",
      "          u'(Yes, there\\u2019s no serious disputing this.)\"\\nNo. \\xa0There\\'s plenty disputing ' +\\\n",
      "          u'that.\\n\\xa0\"His approval numbers are down, dragged down by the opposition party, ' +\\\n",
      "          u'which does everything it can to make sure there will be no economic recovery while ' +\\\n",
      "          u'he\\u2019s president.\"\\nThat\\'s so brain-dead stupid it\\'s almost worth ignoring. ' +\\\n",
      "          u'\\xa0But someone\\'s got to do it.\\n\\nNo, Mikey, &lt;em&gt;Obama&lt;/em&gt; has done ' +\\\n",
      "          u'everything he can to make sure there will be no economic recovery while he\\'s ' +\\\n",
      "          u'president.\\xa0\\nTomasky\\'s \"advice\" to the President is a transparently cynical ' +\\\n",
      "          u'political strategy: just repeat what (he imagine) will enrage voters until they\\'re ' +\\\n",
      "          u'enraged.\\xa0\\nThe difficulty here is that Obama and the Dims have been doing little ' +\\\n",
      "          u'else but damn the Republicans\\u2014certainly not their jobs\\u2014since around the ' +\\\n",
      "          u' 2010 \"Summer of Recovery\" (remember that howler?). \\xa0The public credits this ' +\\\n",
      "          u'bulls**t less and less every year, but Mikey thinks more and deeper bulls**t is the ' +\\\n",
      "          u'answer.\\n'\n",
      "from HTMLParser import HTMLParser\n",
      "html_parser = HTMLParser()\n",
      "unescaped = html_parser.unescape(content)\n",
      "print unescaped"
     ],
     "language": "python",
     "metadata": {},
     "outputs": [
      {
       "output_type": "stream",
       "stream": "stdout",
       "text": [
        "\"Here\u2019s the most obstructed president in the modern history of the country.(Yes, there\u2019s no serious disputing this.)\"\n",
        "No. \u00a0There's plenty disputing that.\n",
        "\u00a0\"His approval numbers are down, dragged down by the opposition party, which does everything it can to make sure there will be no economic recovery while he\u2019s president.\"\n",
        "That's so brain-dead stupid it's almost worth ignoring. \u00a0But someone's got to do it.\n",
        "\n",
        "No, Mikey, <em>Obama</em> has done everything he can to make sure there will be no economic recovery while he's president.\u00a0\n",
        "Tomasky's \"advice\" to the President is a transparently cynical political strategy: just repeat what (he imagine) will enrage voters until they're enraged.\u00a0\n",
        "The difficulty here is that Obama and the Dims have been doing little else but damn the Republicans\u2014certainly not their jobs\u2014since around the  2010 \"Summer of Recovery\" (remember that howler?). \u00a0The public credits this bulls**t less and less every year, but Mikey thinks more and deeper bulls**t is the answer.\n",
        "\n"
       ]
      }
     ],
     "prompt_number": 12
    },
    {
     "cell_type": "heading",
     "level": 2,
     "metadata": {},
     "source": [
      "2. Rendering Text"
     ]
    },
    {
     "cell_type": "heading",
     "level": 3,
     "metadata": {},
     "source": [
      "2.1. Original NLTK v2.x solution"
     ]
    },
    {
     "cell_type": "markdown",
     "metadata": {},
     "source": [
      "After escaping, we still need to remove the HTML tags. In the above example, we need to replace \"`<em>Obama</em>`\" with simply \"`Obama`\".\n",
      "\n",
      "NLTK v2.x provides a built-in function `clean_html()`. This function, however, has been deprecated in v3.x of NLTK, which now recommends to use `get_text()` method from `BeautifulText4` package. For future reference, the v2.x implementation of `clean_html()` looks like this:"
     ]
    },
    {
     "cell_type": "code",
     "collapsed": false,
     "input": [
      "def clean_html(html):\n",
      "    \"\"\"Remove HTML markup from the given string.\"\"\"\n",
      "    \n",
      "    # First we remove inline JavaScript/CSS:\n",
      "    cleaned = re.sub(r\"(?is)<(script|style).*?>.*?(</\\1>)\", \"\", html.strip())\n",
      "    # Then we remove html comments. This has to be done before removing regular\n",
      "    # tags since comments can contain '>' characters.\n",
      "    cleaned = re.sub(r\"(?s)<!--(.*?)-->[\\n]?\", \"\", cleaned)\n",
      "    # Next we can remove the remaining tags:\n",
      "    cleaned = re.sub(r\"(?s)<.*?>\", \" \", cleaned)\n",
      "    # Finally, we deal with whitespace\n",
      "    cleaned = re.sub(r\"&nbsp;\", \" \", cleaned)\n",
      "    cleaned = re.sub(r\"  \", \" \", cleaned)\n",
      "    cleaned = re.sub(r\"  \", \" \", cleaned)\n",
      "    return cleaned.strip()"
     ],
     "language": "python",
     "metadata": {},
     "outputs": [],
     "prompt_number": 13
    },
    {
     "cell_type": "markdown",
     "metadata": {},
     "source": [
      "We will explore three alternative implementations of clean_html, one using the recommended method `get_text()` from `BeautifulSoup4`, another using `HTMLParser` module, and a third one using `lxml`."
     ]
    },
    {
     "cell_type": "heading",
     "level": 3,
     "metadata": {},
     "source": [
      "2.2. `lxml` solution"
     ]
    },
    {
     "cell_type": "code",
     "collapsed": false,
     "input": [
      "from lxml.html import document_fromstring\n",
      "\n",
      "def clean_html(html):\n",
      "    \"\"\"Remove HTML markup from the given string.\"\"\"\n",
      "    return ''.join(document_fromstring(html).itertext()).strip()\n",
      "\n",
      "print clean_html(unescaped)\n",
      "print \n",
      "%timeit clean_html(unescaped)"
     ],
     "language": "python",
     "metadata": {},
     "outputs": [
      {
       "output_type": "stream",
       "stream": "stdout",
       "text": [
        "\"Here\u2019s the most obstructed president in the modern history of the country.(Yes, there\u2019s no serious disputing this.)\"\n",
        "No. \u00a0There's plenty disputing that.\n",
        "\u00a0\"His approval numbers are down, dragged down by the opposition party, which does everything it can to make sure there will be no economic recovery while he\u2019s president.\"\n",
        "That's so brain-dead stupid it's almost worth ignoring. \u00a0But someone's got to do it.\n",
        "\n",
        "No, Mikey, Obama has done everything he can to make sure there will be no economic recovery while he's president.\u00a0\n",
        "Tomasky's \"advice\" to the President is a transparently cynical political strategy: just repeat what (he imagine) will enrage voters until they're enraged.\u00a0\n",
        "The difficulty here is that Obama and the Dims have been doing little else but damn the Republicans\u2014certainly not their jobs\u2014since around the  2010 \"Summer of Recovery\" (remember that howler?). \u00a0The public credits this bulls**t less and less every year, but Mikey thinks more and deeper bulls**t is the answer.\n",
        "\n",
        "10000 loops, best of 3: 72.9 \u00b5s per loop"
       ]
      },
      {
       "output_type": "stream",
       "stream": "stdout",
       "text": [
        "\n"
       ]
      }
     ],
     "prompt_number": 17
    },
    {
     "cell_type": "heading",
     "level": 3,
     "metadata": {},
     "source": [
      "2.3. HTMLParser solution"
     ]
    },
    {
     "cell_type": "code",
     "collapsed": false,
     "input": [
      "class MLStripper(HTMLParser):\n",
      "    def __init__(self):\n",
      "        self.reset()\n",
      "        self.fed = []\n",
      "    def handle_data(self, d):\n",
      "        self.fed.append(d)\n",
      "    def get_data(self):\n",
      "        return ''.join(self.fed)\n",
      "\n",
      "def clean_html(html):\n",
      "    \"\"\"Remove HTML markup from the given string.\"\"\"\n",
      "    s = MLStripper()\n",
      "    s.feed(html)\n",
      "    return s.get_data().strip()\n",
      "\n",
      "print clean_html(unescaped)\n",
      "print \n",
      "%timeit clean_html(unescaped)"
     ],
     "language": "python",
     "metadata": {},
     "outputs": [
      {
       "output_type": "stream",
       "stream": "stdout",
       "text": [
        "\"Here\u2019s the most obstructed president in the modern history of the country.(Yes, there\u2019s no serious disputing this.)\"\n",
        "No. \u00a0There's plenty disputing that.\n",
        "\u00a0\"His approval numbers are down, dragged down by the opposition party, which does everything it can to make sure there will be no economic recovery while he\u2019s president.\"\n",
        "That's so brain-dead stupid it's almost worth ignoring. \u00a0But someone's got to do it.\n",
        "\n",
        "No, Mikey, Obama has done everything he can to make sure there will be no economic recovery while he's president.\u00a0\n",
        "Tomasky's \"advice\" to the President is a transparently cynical political strategy: just repeat what (he imagine) will enrage voters until they're enraged.\u00a0\n",
        "The difficulty here is that Obama and the Dims have been doing little else but damn the Republicans\u2014certainly not their jobs\u2014since around the  2010 \"Summer of Recovery\" (remember that howler?). \u00a0The public credits this bulls**t less and less every year, but Mikey thinks more and deeper bulls**t is the answer.\n",
        "\n",
        "10000 loops, best of 3: 42.2 \u00b5s per loop"
       ]
      },
      {
       "output_type": "stream",
       "stream": "stdout",
       "text": [
        "\n"
       ]
      }
     ],
     "prompt_number": 19
    },
    {
     "cell_type": "heading",
     "level": 3,
     "metadata": {},
     "source": [
      "2.4. BeautifulSoup4 solution"
     ]
    },
    {
     "cell_type": "code",
     "collapsed": false,
     "input": [
      "from bs4 import BeautifulSoup\n",
      "\n",
      "def clean_html(html):\n",
      "    \"\"\"Remove HTML markup from the given string.\"\"\"\n",
      "    s = BeautifulSoup(html)\n",
      "    return s.get_text().strip()\n",
      "\n",
      "print clean_html(unescaped)\n",
      "print \n",
      "%timeit clean_html(unescaped)"
     ],
     "language": "python",
     "metadata": {},
     "outputs": [
      {
       "output_type": "stream",
       "stream": "stdout",
       "text": [
        "\"Here\u2019s the most obstructed president in the modern history of the country.(Yes, there\u2019s no serious disputing this.)\"\n",
        "No. \u00a0There's plenty disputing that.\n",
        "\u00a0\"His approval numbers are down, dragged down by the opposition party, which does everything it can to make sure there will be no economic recovery while he\u2019s president.\"\n",
        "That's so brain-dead stupid it's almost worth ignoring. \u00a0But someone's got to do it.\n",
        "\n",
        "No, Mikey, Obama has done everything he can to make sure there will be no economic recovery while he's president.\u00a0\n",
        "Tomasky's \"advice\" to the President is a transparently cynical political strategy: just repeat what (he imagine) will enrage voters until they're enraged.\u00a0\n",
        "The difficulty here is that Obama and the Dims have been doing little else but damn the Republicans\u2014certainly not their jobs\u2014since around the  2010 \"Summer of Recovery\" (remember that howler?). \u00a0The public credits this bulls**t less and less every year, but Mikey thinks more and deeper bulls**t is the answer.\n",
        "\n",
        "1000 loops, best of 3: 257 \u00b5s per loop"
       ]
      },
      {
       "output_type": "stream",
       "stream": "stdout",
       "text": [
        "\n"
       ]
      }
     ],
     "prompt_number": 22
    },
    {
     "cell_type": "heading",
     "level": 3,
     "metadata": {},
     "source": [
      "2.5. Conclusion"
     ]
    },
    {
     "cell_type": "markdown",
     "metadata": {},
     "source": [
      "`HMTLParser` solution has the best perfomance profile and does not require adding `lxml` or `beautifulsoup4` as dependencies, thus this will be our primary rendering method."
     ]
    }
   ],
   "metadata": {}
  }
 ]
}