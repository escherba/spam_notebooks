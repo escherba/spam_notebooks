{
 "metadata": {
  "name": "",
  "signature": "sha256:7c27715bd24884ed3b286eec6435cf9d16af5325764dc957650964487f1372ac"
 },
 "nbformat": 3,
 "nbformat_minor": 0,
 "worksheets": [
  {
   "cells": [
    {
     "cell_type": "heading",
     "level": 1,
     "metadata": {},
     "source": [
      "Modeling History"
     ]
    },
    {
     "cell_type": "heading",
     "level": 2,
     "metadata": {},
     "source": [
      "Entity quality"
     ]
    },
    {
     "cell_type": "markdown",
     "metadata": {},
     "source": [
      "When fighting spam, it is desirable to predict not only the score of any individual comment, but also variables such as *user quality*, *domain name quality* and so on. Entity quality would be a valuable statistic to have, since one can imagine a production pipeline where, upon a given entity reaching some threshold number (say 0.95), a process is triggered where the moderators get notified that the user or a persistent spammer/troll or that a particular domain name occurs exclusively in spam comments. Upon human inspection, the entity would then be placed into *jail* from which it could recover only if its quality score improves.\n",
      "\n",
      "Although entity quality sounds like something ambiguous, it appears that one resonable definition of it is the probability, given past entity history, that the next comment associated with this entity will be spam.\n",
      "\n",
      "An alternative to producing entity quality score is to incorporate entity history directly as a feature in an ensemble classifier that would produce a single score upon encountering a comment. Such a process might prove effective and is worth researching, but for the purposes of human moderation, a separate score maintained for every entity at any point in time should be particularly beneficial. Not only would this give us a way to trigger moderation tasks, but it could also be fed into a subsequent ensemble classifier, thereby subsuming the direct feature model."
     ]
    },
    {
     "cell_type": "heading",
     "level": 2,
     "metadata": {},
     "source": [
      "Decay function"
     ]
    },
    {
     "cell_type": "markdown",
     "metadata": {},
     "source": [
      "One of our findings was that looking only at past 5 user comments provides enough information to effectively classify future content with F-score being close to 0.90, regardless of the total number of comments the given user has. Increasing the history to past 10 comments improves the F-score very slightly, and going much beyond that number actually decreases it.\n",
      "\n",
      "There are a couple of reasons for this. One has to do with past n comments being a sufficient sample on its own. Another has to do with the fact that very *old* history is not a good predictor of current behavior, as the user could have been a *switcher* (a *sleeper* who all of a suddden changed from posting good content to posting spam or a borderline user who had briefly participated in a spam campaign but later switched to posting good content)."
     ]
    },
    {
     "cell_type": "markdown",
     "metadata": {},
     "source": [
      "The probability of a particular sequence of realizations of a binary variable in a series of Bernouilli trials is a simple product of probabilities of labels in each trial. However, spam/ham is not a Bernoulli process since user behavior (and therefore underlying label probabilities) can change over time. In practice we use a window where we can assume that Bernoulli process holds. We additionally penalize older data points by adding a decay function. We choose an exponential decay function since exponential behavior is commonly observed with time-dependent events."
     ]
    },
    {
     "cell_type": "heading",
     "level": 2,
     "metadata": {},
     "source": [
      "Sequence likelihood"
     ]
    },
    {
     "cell_type": "markdown",
     "metadata": {},
     "source": [
      "We regularize the likelihood function by calculating a weighted geometric average of likelihood and the prior sequence probability. The resulting regularized function is caled *a posteriori likelihood*."
     ]
    },
    {
     "cell_type": "code",
     "collapsed": false,
     "input": [
      "from IPython.display import Latex\n",
      "from math import log, exp\n",
      "import matplotlib.pyplot as plt\n",
      "%matplotlib inline"
     ],
     "language": "python",
     "metadata": {},
     "outputs": [],
     "prompt_number": 13
    },
    {
     "cell_type": "markdown",
     "metadata": {},
     "source": [
      "The maximum a posteriori likelihood is:\n",
      "\\begin{aligned}\n",
      "L_{MAP}(\\theta | x, C, b) &= P(X = x | \\theta)^C P(\\theta)^{1-C} \\\\ \n",
      "&= \\prod_i^{|X|} p(x=s_i)^{C d(i)} \\prod_j^{|S|} p(x=s_j)^{(1- C)w_j} \n",
      "\\end{aligned}\n",
      "\n",
      "where $d(i)$ is the decay function defined for some base $ b $ as $ d(i) = b^{-i} $, \n",
      "and $ w_j = Prior(x = s_j) $."
     ]
    },
    {
     "cell_type": "markdown",
     "metadata": {},
     "source": [
      "Sample implementation:"
     ]
    },
    {
     "cell_type": "code",
     "collapsed": false,
     "input": [
      "def pseq_rev(observed, label=\"S\", base=2.0, p_spam=0.01, prior=0.01, C=0.5):\n",
      "\n",
      "    \"\"\"Compute AP likelihood of a sequence of observations \n",
      "    \n",
      "    :param observed: sequence of observations\n",
      "    :param label: character label we expect to see in `observed`\n",
      "    :param base: rate of exponential decay\n",
      "    :param p_spam: probability of label\n",
      "    :param prior: prior probability of label\n",
      "    :param C: regularization parameter (ignore observed if 0.0, ignore prior if 1.0)\n",
      "    :return: AP likelihood of a sequence of observations\n",
      "    \"\"\"\n",
      "    \n",
      "    assert base >= 1.0\n",
      "    assert 0.0 <= prior <= 1.0\n",
      "    assert 0.0 <= C <= 1.0\n",
      "    \n",
      "    log_prob = 0.0\n",
      "    for i, observation in enumerate(observed[::-1]):\n",
      "        weight = base ** (-i)\n",
      "        if observation == label:\n",
      "            log_prob += weight * log(p_spam)\n",
      "        else:\n",
      "            log_prob += weight * log(1.0 - p_spam)\n",
      "    \n",
      "    log_prior = prior * log(p_spam) + (1.0 - prior) * log(1.0 - p_spam)\n",
      "    return exp(C * log_prob + (1.0 - C) * log_prior)"
     ],
     "language": "python",
     "metadata": {},
     "outputs": [],
     "prompt_number": 247
    },
    {
     "cell_type": "markdown",
     "metadata": {},
     "source": [
      "When ignoring prior information, the return value is determined solely by p_spam parameter:"
     ]
    },
    {
     "cell_type": "code",
     "collapsed": false,
     "input": [
      "pseq_rev(\"H\", p_spam=0.2, C=1)"
     ],
     "language": "python",
     "metadata": {},
     "outputs": [
      {
       "metadata": {},
       "output_type": "pyout",
       "prompt_number": 244,
       "text": [
        "0.8"
       ]
      }
     ],
     "prompt_number": 244
    },
    {
     "cell_type": "code",
     "collapsed": false,
     "input": [
      "pseq_rev(\"S\", p_spam=0.2, C=1)"
     ],
     "language": "python",
     "metadata": {},
     "outputs": [
      {
       "metadata": {},
       "output_type": "pyout",
       "prompt_number": 245,
       "text": [
        "0.2"
       ]
      }
     ],
     "prompt_number": 245
    },
    {
     "cell_type": "code",
     "collapsed": false,
     "input": [
      "pseq_rev(\"HH\", p_spam=0.2, C=1)"
     ],
     "language": "python",
     "metadata": {},
     "outputs": [
      {
       "metadata": {},
       "output_type": "pyout",
       "prompt_number": 246,
       "text": [
        "0.7155417527999327"
       ]
      }
     ],
     "prompt_number": 246
    },
    {
     "cell_type": "code",
     "collapsed": false,
     "input": [
      "curr_seq = \"HSSSHS\"\n",
      "xs = [x / 100.0 for x in range(1, 100)]\n",
      "plt.figure()\n",
      "plt.plot(xs, [pseq_rev(curr_seq, p_spam=x, C=0.0) for x in xs], 'r')\n",
      "plt.plot(xs, [pseq_rev(curr_seq, p_spam=x, C=0.5) for x in xs], 'g')\n",
      "plt.plot(xs, [pseq_rev(curr_seq, p_spam=x, C=1.0) for x in xs], 'b')\n",
      "plt.xlabel('P(spam)')\n",
      "plt.ylabel('P(sequence)')\n",
      "plt.title('AP likelihood of decaying model')\n",
      "plt.show()"
     ],
     "language": "python",
     "metadata": {},
     "outputs": [
      {
       "metadata": {},
       "output_type": "display_data",
       "png": "[encoded data removed]",
       "text": [
        "<matplotlib.figure.Figure at 0x10fafce90>"
       ]
      }
     ],
     "prompt_number": 259
    },
    {
     "cell_type": "markdown",
     "metadata": {},
     "source": [
      "Plotting the AP likelihood (above) we see that, ignoring prior information, the likelihood has a maximum near $ P(spam) = 0.78 $ (blue line). Meanwhile, ignoring our observation of \"HSSSHS\", the likelihood has a sharp peak near 0.01 (red line), which is exactly the prior value of $ P(spam) $. At $ C=0.5 $, the resulting function can be interpreted as observed likelihood regularized by prior information (green line), which is the essence of *a posteriori* estimates. "
     ]
    },
    {
     "cell_type": "heading",
     "level": 2,
     "metadata": {},
     "source": [
      "MAP estimate of future P(spam)"
     ]
    },
    {
     "cell_type": "markdown",
     "metadata": {},
     "source": [
      "The log of AP likelihood will achieve its maximum at the same $ x $ coordinate, \n",
      "and is defined for a binary label $ s $ as\n",
      "\\begin{aligned}\n",
      "LL_{MAP}(\\theta | x, C, b) &= log(p_s) \\big[C\\sum_{i, x=s}^{|X|} d(i) + (1-C)\\sum_{j, x=s}^{|S|} w_j \\big] +  log(1 - p_s) \\big[C\\sum_{i, x \\neq s}^{|X|} d(i) + (1-C)\\sum_{j, x \\neq s}^{|S|} w_j\\big] \\\\\n",
      "&= log(p_s) \\big[C\\sum_{i, x=s}^{|X|} d(i) + (1-C)Prior_s \\big] + log(1 - p_s) \\big[C\\sum_{i, x \\neq s}^{|X|} d(i) + (1-C)(1-Prior_s)\\big]\n",
      "\\end{aligned}\n",
      "\n",
      "From the above, we can analytically derive a MAP estimate of $ p(x=s) $:\n",
      "\\begin{aligned}\n",
      "\\max_{p_s} LL_{MAP}(\\theta | x, C, b) &\\implies \\frac{\\partial LL_{MAP}(\\theta | x, C, b)}{\\partial p_s} = 0 \\\\\n",
      "&\\implies \\hat{p}_{MAP}(s) = \\frac{C\\sum_{i, x=s}^{|X|} d(i) + (1-C)Prior_s}{C\\sum_{i}^{|X|} d(i) + (1-C)}\n",
      "\\end{aligned}\n",
      "\n",
      "Note above that if $ C = 1.0 $ we are essentially looking at a maximum likelihood estimate $ \\hat{p}_{ML}(s) $, and if $ C = 0.0 $ then the MAP estimate\n",
      "exactly equals prior probability of $ x=s $ ."
     ]
    },
    {
     "cell_type": "markdown",
     "metadata": {},
     "source": [
      "Implementation of MAP estimate:"
     ]
    },
    {
     "cell_type": "code",
     "collapsed": false,
     "input": [
      "def pspam_rev(observed, label=\"S\", base=2.0, prior=0.01, C=0.1):\n",
      "\n",
      "    \"\"\"Obtain MAP estimate of \"S\" label given a sequence of observations\n",
      "    \n",
      "    :param observed: sequence of observations (\"S\" or other)\n",
      "    :param label: character label to look for in `observed`\n",
      "    :param base: rate of exponential decay\n",
      "    :param prior: prior probability of \"S\" label\n",
      "    :param C: regularization parameter (ignore observed if 0.0, ignore prior if 1.0)\n",
      "    :return: posterior probability of \"S\" label\n",
      "    \"\"\"\n",
      "    \n",
      "    assert base >= 1.0\n",
      "    assert 0.0 <= prior <= 1.0\n",
      "    assert 0.0 <= C <= 1.0\n",
      "    \n",
      "    S_wp = 0.0\n",
      "    S_w1p = 0.0\n",
      "    for i, p in enumerate(observed[::-1]):\n",
      "        weight = base ** (-i)\n",
      "        if p == \"S\":\n",
      "            S_wp += weight\n",
      "        else:\n",
      "            S_w1p += weight\n",
      "    return (C * S_wp + (1.0 - C) * prior) / (C * S_w1p + (1.0 - C))"
     ],
     "language": "python",
     "metadata": {},
     "outputs": [],
     "prompt_number": 16
    },
    {
     "cell_type": "code",
     "collapsed": false,
     "input": [
      "curr_seq = \"HSSSHS\"\n",
      "print \"C=0.0:\", pspam_rev(curr_seq, C=0.0)\n",
      "print \"C=0.1:\", pspam_rev(curr_seq, C=0.1)\n",
      "print \"C=0.5:\", pspam_rev(curr_seq, C=0.5)\n",
      "print \"C=1.0:\", pspam_rev(curr_seq, C=1.0)"
     ],
     "language": "python",
     "metadata": {},
     "outputs": [
      {
       "output_type": "stream",
       "stream": "stdout",
       "text": [
        "C=0.0: 0.01\n",
        "C=0.1: 0.0721484209036\n",
        "C=0.5: 0.284325901229\n",
        "C=1.0: 0.488549618321\n"
       ]
      }
     ],
     "prompt_number": 17
    },
    {
     "cell_type": "heading",
     "level": 2,
     "metadata": {},
     "source": [
      "Experimental setup"
     ]
    },
    {
     "cell_type": "markdown",
     "metadata": {},
     "source": [
      "There are two experiments that should be performed. Given initial labeled truth set: (a) send entities to jail once they exceed a given future spam threshold and bail them out once the a particular future ham threshold has been achieved, (b) for each comment, assign an average score based on content score and on logit-transformed probability of future score from MAP estimate. \n",
      "\n",
      "For each experiment, run several trials for different time periods and obtain ROC curves. Note that randomization or regular k-fold cross-validation will not work for this scheme since comments have to be treated in order."
     ]
    },
    {
     "cell_type": "markdown",
     "metadata": {},
     "source": [
      "<a href=\"http://www.websequencediagrams.com/?lz=dGl0bGUgSGlzdG9yeSBNb2RlbCBXb3JrZmxvdwoKU2NpZW50aXN0LS0-UzM6IHN0YXJ0ClMzLT5sb2NhbDogZG93bmxvYWQKAAsFLT5Eb21pbm86IHN5bmMKAAcGIC0-IAAPCGFnZ3JlZ2F0ZSBieSBmZWF0dXJlcwAdC1MzOiBjb2xsZWN0IGFnZy4KbG9vcCB4ADc7cnVuIGNvbnRlbnQgbW9kZWwAgUoKAIENDHNldCB1cCBoeXBlcnBhcmFtADQXaACCIgcARQYAgVcKTWFuYWdlcjogZ2VuLiByZXBvcnQKZW5kIGxvb3A&s=vs2010\"><img src=\"http://www.websequencediagrams.com/cgi-bin/cdraw?lz=dGl0bGUgSGlzdG9yeSBNb2RlbCBXb3JrZmxvdwoKU2NpZW50aXN0LS0-UzM6IHN0YXJ0ClMzLT5sb2NhbDogZG93bmxvYWQKAAsFLT5Eb21pbm86IHN5bmMKAAcGIC0-IAAPCGFnZ3JlZ2F0ZSBieSBmZWF0dXJlcwAdC1MzOiBjb2xsZWN0IGFnZy4KbG9vcCB4ADc7cnVuIGNvbnRlbnQgbW9kZWwAgUoKAIENDHNldCB1cCBoeXBlcnBhcmFtADQXaACCIgcARQYAgVcKTWFuYWdlcjogZ2VuLiByZXBvcnQKZW5kIGxvb3A&s=vs2010\"></a>"
     ]
    },
    {
     "cell_type": "code",
     "collapsed": false,
     "input": [],
     "language": "python",
     "metadata": {},
     "outputs": []
    }
   ],
   "metadata": {}
  }
 ]
}