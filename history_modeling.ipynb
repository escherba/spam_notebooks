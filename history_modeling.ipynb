{
 "metadata": {
  "name": "",
  "signature": "sha256:24ba1393dfc7d9447ff60bccd5ccb7e066049ba74228606401c2ece94a492625"
 },
 "nbformat": 3,
 "nbformat_minor": 0,
 "worksheets": [
  {
   "cells": [
    {
     "cell_type": "heading",
     "level": 1,
     "metadata": {},
     "source": [
      "Modeling History"
     ]
    },
    {
     "cell_type": "heading",
     "level": 2,
     "metadata": {},
     "source": [
      "Decay function"
     ]
    },
    {
     "cell_type": "code",
     "collapsed": false,
     "input": [
      "from IPython.display import Latex\n",
      "from math import log, exp\n",
      "import matplotlib.pyplot as plt\n",
      "%matplotlib inline"
     ],
     "language": "python",
     "metadata": {},
     "outputs": [],
     "prompt_number": 13
    },
    {
     "cell_type": "markdown",
     "metadata": {},
     "source": [
      "The maximum a posteriori likelihood is:\n",
      "\\begin{aligned}\n",
      "L_{MAP}(\\theta | x, C, b) &= P(X = x | \\theta)^C P(\\theta)^{1-C} \\\\ \n",
      "&= \\prod_i^{|X|} p(x=s_i)^{C d(i)} \\prod_j^{|S|} p(x=s_j)^{(1- C)w_j} \n",
      "\\end{aligned}\n",
      "\n",
      "where $d(i)$ is the decay function defined for some base $ b $ as $ d(i) = b^{-i} $, \n",
      "and $ w_j = Prior(x = s_j) $."
     ]
    },
    {
     "cell_type": "markdown",
     "metadata": {},
     "source": [
      "Sample implementation:"
     ]
    },
    {
     "cell_type": "code",
     "collapsed": false,
     "input": [
      "def pseq_rev(observed, label=\"S\", base=2.0, p_spam=0.01, prior=0.01, C=0.5):\n",
      "\n",
      "    \"\"\"Compute probability of a sequence of observations \n",
      "    that takes form HHHHHHSHSHSH\n",
      "    \n",
      "    :param observed: sequence of observations\n",
      "    :param label: character label we expect to see in `observed`\n",
      "    :param base: rate of exponential decay\n",
      "    :param p_spam: probability of label\n",
      "    :param prior: prior probability of label\n",
      "    :param C: regularization parameter (if zero, ignore prior)\n",
      "    :return: probability of sequence\n",
      "    \"\"\"\n",
      "    \n",
      "    assert base >= 1.0\n",
      "    assert 0.0 <= prior <= 1.0\n",
      "    assert 0.0 <= C <= 1.0\n",
      "    \n",
      "    log_prob = 0.0\n",
      "    for i, observation in enumerate(observed[::-1]):\n",
      "        weight = base ** (-i)\n",
      "        if observation == label:\n",
      "            log_prob += weight * log(p_spam)\n",
      "        else:\n",
      "            log_prob += weight * log(1.0 - p_spam)\n",
      "    \n",
      "    log_prior = prior * log(p_spam) + (1.0 - prior) * log(1.0 - p_spam)\n",
      "    return exp(C * log_prob + (1.0 - C) * log_prior)"
     ],
     "language": "python",
     "metadata": {},
     "outputs": [],
     "prompt_number": 14
    },
    {
     "cell_type": "code",
     "collapsed": false,
     "input": [
      "curr_seq = \"HHHHHHSHSHSH\"\n",
      "xs = [x / 100.0 for x in range(1, 100)]\n",
      "plt.figure()\n",
      "plt.plot(xs, [pseq_rev(curr_seq, p_spam=x, C=0.0) for x in xs], 'r--')\n",
      "plt.plot(xs, [pseq_rev(curr_seq, p_spam=x, C=0.3) for x in xs], 'r')\n",
      "plt.plot(xs, [pseq_rev(curr_seq, p_spam=x, C=1.0) for x in xs], 'r--')\n",
      "plt.xlabel('P(spam)')\n",
      "plt.ylabel('P(sequence)')\n",
      "plt.title('MAP likelihood of decaying model')\n",
      "plt.show()"
     ],
     "language": "python",
     "metadata": {},
     "outputs": [
      {
       "metadata": {},
       "output_type": "display_data",
       "png": "[encoded data removed]",
       "text": [
        "<matplotlib.figure.Figure at 0x10d410050>"
       ]
      }
     ],
     "prompt_number": 15
    },
    {
     "cell_type": "markdown",
     "metadata": {},
     "source": [
      "The log of this product will achieve its maximum at the same $ x $ coordinate, \n",
      "and is defined for a binary label $ s $ as\n",
      "\\begin{aligned}\n",
      "LL_{MAP}(\\theta | x, C, b) &= log(p_s) \\big[C\\sum_{i, x=s}^{|X|} d(i) + (1-C)\\sum_{j, x=s}^{|S|} w_j \\big] +  log(1 - p_s) \\big[C\\sum_{i, x \\neq s}^{|X|} d(i) + (1-C)\\sum_{j, x \\neq s}^{|S|} w_j\\big] \\\\\n",
      "&= log(p_s) \\big[C\\sum_{i, x=s}^{|X|} d(i) + (1-C)Prior_s \\big] + log(1 - p_s) \\big[C\\sum_{i, x \\neq s}^{|X|} d(i) + (1-C)(1-Prior_s)\\big]\n",
      "\\end{aligned}\n",
      "\n",
      "From the above, we can analytically derive a MAP estimate of $ p(x=s) $:\n",
      "\\begin{aligned}\n",
      "\\max_{p_s} LL_{MAP}(\\theta | x, C, b) &\\implies \\frac{\\partial LL_{MAP}(\\theta | x, C, b)}{\\partial p_s} = 0 \\\\\n",
      "&\\implies \\hat{p}_{MAP}(s) = \\frac{C\\sum_{i, x=s}^{|X|} d(i) + (1-C)Prior_s}{C\\sum_{i}^{|X|} d(i) + (1-C)}\n",
      "\\end{aligned}\n",
      "\n",
      "Note above that if $ C = 1.0 $ we are essentially looking at a maximum likelihood estimate $ \\hat{p}_{ML}(s) $, and if $ C = 0.0 $ then the MAP estimate\n",
      "exactly equals prior probability of $ x=s $ ."
     ]
    },
    {
     "cell_type": "markdown",
     "metadata": {},
     "source": [
      "Implementation of MAP estimate:"
     ]
    },
    {
     "cell_type": "code",
     "collapsed": false,
     "input": [
      "def pspam_rev(observed, label=\"S\", base=2.0, prior=0.01, C=0.1):\n",
      "\n",
      "    \"\"\"Obtain Bayesian estimate of \"S\" label\n",
      "    given a sequence of observations\n",
      "    \n",
      "    :param observed: sequence of observations (\"S\" or other)\n",
      "    :param label: character label to look for in `observed`\n",
      "    :param base: rate of exponential decay\n",
      "    :param prior: prior probability of \"S\" label\n",
      "    :param C: regularization parameter (ignore observed if 0.0, ignore prior if 1.0)\n",
      "    :return: posterior probability of \"S\" label\n",
      "    \"\"\"\n",
      "    \n",
      "    assert base >= 1.0\n",
      "    assert 0.0 <= prior <= 1.0\n",
      "    assert 0.0 <= C <= 1.0\n",
      "    \n",
      "    S_wp = 0.0\n",
      "    S_w1p = 0.0\n",
      "    for i, p in enumerate(observed[::-1]):\n",
      "        weight = base ** (-i)\n",
      "        if p == \"S\":\n",
      "            S_wp += weight\n",
      "        else:\n",
      "            S_w1p += weight\n",
      "    return (C * S_wp + (1.0 - C) * prior) / (C * S_w1p + (1.0 - C))"
     ],
     "language": "python",
     "metadata": {},
     "outputs": [],
     "prompt_number": 16
    },
    {
     "cell_type": "code",
     "collapsed": false,
     "input": [
      "print \"C=0.0:\", pspam_rev(curr_seq, C=0.0)\n",
      "print \"C=0.1:\", pspam_rev(curr_seq, C=0.1)\n",
      "print \"C=0.5:\", pspam_rev(curr_seq, C=0.5)\n",
      "print \"C=1.0:\", pspam_rev(curr_seq, C=1.0)"
     ],
     "language": "python",
     "metadata": {},
     "outputs": [
      {
       "output_type": "stream",
       "stream": "stdout",
       "text": [
        "C=0.0: 0.01\n",
        "C=0.1: 0.0721484209036\n",
        "C=0.5: 0.284325901229\n",
        "C=1.0: 0.488549618321\n"
       ]
      }
     ],
     "prompt_number": 17
    },
    {
     "cell_type": "code",
     "collapsed": false,
     "input": [],
     "language": "python",
     "metadata": {},
     "outputs": []
    }
   ],
   "metadata": {}
  }
 ]
}